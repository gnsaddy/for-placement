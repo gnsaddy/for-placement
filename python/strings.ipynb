{
 "metadata": {
  "language_info": {
   "codemirror_mode": {
    "name": "ipython",
    "version": 3
   },
   "file_extension": ".py",
   "mimetype": "text/x-python",
   "name": "python",
   "nbconvert_exporter": "python",
   "pygments_lexer": "ipython3",
   "version": "3.8.2-final"
  },
  "orig_nbformat": 2,
  "kernelspec": {
   "name": "python_defaultSpec_1599789140893",
   "display_name": "Python 3.8.2 64-bit"
  }
 },
 "nbformat": 4,
 "nbformat_minor": 2,
 "cells": [
  {
   "cell_type": "code",
   "execution_count": 4,
   "metadata": {
    "tags": []
   },
   "outputs": [
    {
     "output_type": "stream",
     "name": "stdout",
     "text": "a\nr\ncharacters of a String\ncharacters of a String\nCharacters Of A String\n"
    }
   ],
   "source": [
    "# string in python\n",
    "# indexing\n",
    "s1 = \"characters of a String\"\n",
    "print(s1[4])\n",
    "print(s1[-4])\n",
    "print(s1.strip())\n",
    "print(\"\".join(s1))\n",
    "\n",
    "# python title\n",
    "print(s2.title())\n"
   ]
  },
  {
   "cell_type": "code",
   "execution_count": 7,
   "metadata": {
    "tags": []
   },
   "outputs": [
    {
     "output_type": "stream",
     "name": "stdout",
     "text": "sretcarahcof a String\ncharacters of a String\n\ngnirtS a fo sretcarahc\n\ncode practice quiz geeks"
    }
   ],
   "source": [
    "# string reverse\n",
    "s2 = \"characters of a String\"\n",
    "print(s2[10::-1]+s2[11:])\n",
    "\n",
    "for i in range(0,len(s2)):\n",
    "    print(s1[i], end=\"\")\n",
    "print(\"\\n\")\n",
    "\n",
    "for i in reversed(s2):\n",
    "    print(i, end='') \n"
   ]
  },
  {
   "cell_type": "code",
   "execution_count": 35,
   "metadata": {
    "tags": []
   },
   "outputs": [
    {
     "output_type": "stream",
     "name": "stdout",
     "text": "code write code practice quiz geeks \n['geeks', 'quiz', 'practice', 'code', 'write', 'code']\ncode write code practice quiz geeks\ncode write code practice quiz geeks\n"
    }
   ],
   "source": [
    "# word reverse\n",
    "def printRev(strr): \n",
    "    strr = strr.split(\" \") \n",
    "    st = [] \n",
    "    for i in strr: \n",
    "        st.append(i) \n",
    "    while len(st) > 0: \n",
    "        print(st[-1], end = \" \") \n",
    "        del st[-1]\n",
    "    \n",
    "strr = \"geeks quiz practice code write code\"\n",
    "printRev(strr)\n",
    "print()\n",
    "\n",
    "st1 = strr.split(\" \")\n",
    "print(st1)\n",
    "print(\" \".join(st1[::-1]))\n",
    "print(\" \".join(list(reversed(st1))))"
   ]
  },
  {
   "cell_type": "code",
   "execution_count": 40,
   "metadata": {
    "tags": []
   },
   "outputs": [
    {
     "output_type": "stream",
     "name": "stdout",
     "text": "skeeg ziuq ecitcarp edoc etirw edoc\n"
    }
   ],
   "source": [
    "# Reverse each word in a sentence\n",
    "strr = \"geeks quiz practice code write code\"\n",
    "st1 = [ele[::-1] for ele in strr.split(\" \") ]\n",
    "\n",
    "print(\" \".join(st1))\n"
   ]
  },
  {
   "cell_type": "code",
   "execution_count": 45,
   "metadata": {
    "tags": []
   },
   "outputs": [
    {
     "output_type": "stream",
     "name": "stdout",
     "text": "\nBinary representation of 16 is \n10000\n\nExponent representation of 165.6458 is \n1.656458e+02\n\none-sixth is : \n0.17\n"
    }
   ],
   "source": [
    "# Formatting of Integers \n",
    "String1 = \"{0:b}\".format(16) \n",
    "print(\"\\nBinary representation of 16 is \") \n",
    "print(String1) \n",
    "  \n",
    "# Formatting of Floats \n",
    "String1 = \"{0:e}\".format(165.6458) \n",
    "print(\"\\nExponent representation of 165.6458 is \") \n",
    "print(String1) \n",
    "  \n",
    "# Rounding off Integers \n",
    "String1 = \"{0:.2f}\".format(1/6) \n",
    "print(\"\\none-sixth is : \") \n",
    "print(String1) "
   ]
  },
  {
   "cell_type": "code",
   "execution_count": 68,
   "metadata": {
    "tags": []
   },
   "outputs": [
    {
     "output_type": "stream",
     "name": "stdout",
     "text": "Testing string methods\ntesting string methods\n              testing String meThods              \n**************testing String meThods**************\n3\nTrue\n20\n4\n"
    }
   ],
   "source": [
    "# methods\n",
    "s3 = \"testing String meThods\"\n",
    "# capitalize()\tConverts the first character to upper case\n",
    "print(s3.capitalize())\n",
    "# casefold()\tConverts string into lower case\n",
    "print(s3.casefold())\n",
    "# center()\tReturns a centered string\n",
    "print(s3.center(50))\n",
    "print(s3.center(50,'*'))\n",
    "# count()\tReturns the number of times a specified value occurs in a string\n",
    "print(s3.count('t'))\n",
    "# endswith()\tReturns true if the string ends with the specified value\n",
    "print(s3.endswith('s'))\n",
    "# find()\tSearches the string for a specified value and returns the position of where it was found\n",
    "print(s3.find('d'))\n",
    "print(s3.find('i',0,10))"
   ]
  },
  {
   "cell_type": "code",
   "execution_count": null,
   "metadata": {},
   "outputs": [],
   "source": []
  },
  {
   "cell_type": "code",
   "execution_count": null,
   "metadata": {},
   "outputs": [],
   "source": []
  }
 ]
}