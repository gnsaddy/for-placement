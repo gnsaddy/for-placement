{
 "metadata": {
  "language_info": {
   "codemirror_mode": {
    "name": "ipython",
    "version": 3
   },
   "file_extension": ".py",
   "mimetype": "text/x-python",
   "name": "python",
   "nbconvert_exporter": "python",
   "pygments_lexer": "ipython3",
   "version": "3.8.5-final"
  },
  "orig_nbformat": 2,
  "kernelspec": {
   "name": "Python 3.8.5 64-bit",
   "display_name": "Python 3.8.5 64-bit",
   "metadata": {
    "interpreter": {
     "hash": "916dbcbb3f70747c44a77c7bcd40155683ae19c65e1c03b4aa3499c5328201f1"
    }
   }
  }
 },
 "nbformat": 4,
 "nbformat_minor": 2,
 "cells": [
  {
   "cell_type": "code",
   "execution_count": 3,
   "metadata": {},
   "outputs": [
    {
     "output_type": "stream",
     "name": "stdout",
     "text": [
      "aditya\naytida\naytida\naytida\n"
     ]
    }
   ],
   "source": [
    "# reversing of string\n",
    "def test_st(s):\n",
    "    print(s)\n",
    "    for i in range(len(s)-1,-1,-1):\n",
    "        print(s[i], end=\"\")\n",
    "    print()\n",
    "\n",
    "    for i in reversed(s):\n",
    "        print(i, end=\"\")\n",
    "    print()\n",
    "    \n",
    "    x = len(s)-1\n",
    "    while x >=0:\n",
    "        print(s[x], end=\"\")\n",
    "        x -= 1\n",
    "    print()\n",
    "\n",
    "\n",
    "test_st(input())\n",
    "\n"
   ]
  },
  {
   "cell_type": "code",
   "execution_count": 22,
   "metadata": {},
   "outputs": [
    {
     "output_type": "stream",
     "name": "stdout",
     "text": [
      "aditya raj rvce mca\naditya raj rvce mca \naytida jar ecvr acm "
     ]
    }
   ],
   "source": [
    "# reverse words in setence\n",
    "def test_wd(s):\n",
    "    print(s)\n",
    "    test_str = s.split(' ')\n",
    "\n",
    "    for i in range(0, len(test_str)):\n",
    "        print(test_str[i], end=\" \")\n",
    "\n",
    "    print()\n",
    "    \n",
    "    for i in range(0, len(test_str)):\n",
    "        print(test_str[i][::-1], end=\" \")\n",
    "\n",
    "test_wd(input())"
   ]
  },
  {
   "cell_type": "code",
   "execution_count": 6,
   "metadata": {},
   "outputs": [
    {
     "output_type": "stream",
     "name": "stdout",
     "text": [
      "aditya test\nAditya Test\nADITYA\nAditya Test "
     ]
    }
   ],
   "source": [
    "# string title\n",
    "def test_title(s):\n",
    "    print(s)\n",
    "    print(s.title())\n",
    "\n",
    "    test_str = s.split(' ')\n",
    "    \n",
    "    for i in range(0, len(test_str)):\n",
    "        print(test_str[i][0].upper()+test_str[i][1:], end=\" \")\n",
    "\n",
    "\n",
    "\n",
    "test_title(input())"
   ]
  },
  {
   "cell_type": "code",
   "execution_count": 2,
   "metadata": {},
   "outputs": [
    {
     "output_type": "stream",
     "name": "stdout",
     "text": [
      "aabbaaa\naabbaaa  is not a palindrome\n"
     ]
    }
   ],
   "source": [
    "# palindrome string and number\n",
    "def test_palindrome_str(s):\n",
    "    print(s)\n",
    "\n",
    "    if s == s[::-1]:\n",
    "        print(s,\" is palindrome\")\n",
    "    else:\n",
    "        print(s,\" is not a palindrome\")\n",
    "\n",
    "\n",
    "    \n",
    "\n",
    "test_palindrome_str(\"aabbaaa\")"
   ]
  },
  {
   "cell_type": "code",
   "execution_count": 7,
   "metadata": {},
   "outputs": [
    {
     "output_type": "stream",
     "name": "stdout",
     "text": [
      "14\n"
     ]
    }
   ],
   "source": [
    "# max sum sub array\n",
    "def maxSubArray(n):\n",
    "    maxSub = n[0]\n",
    "    curSum = 0\n",
    "\n",
    "    for i in range(0,len(n)):\n",
    "        if curSum < 0:\n",
    "            curSum = 0\n",
    "        curSum += n[i]\n",
    "        maxSub = max(maxSub,curSum)\n",
    "    print(maxSub)\n",
    "\n",
    "maxSubArray([6,8,-6,-8,4,2,1,-9,2])"
   ]
  },
  {
   "cell_type": "code",
   "execution_count": 37,
   "metadata": {},
   "outputs": [
    {
     "output_type": "stream",
     "name": "stdout",
     "text": [
      "1,2,3,5,8,13,"
     ]
    }
   ],
   "source": [
    "# fibonacci\n",
    "def fibo(n):\n",
    "    dp = [0 for i in range(n+1)]\n",
    "\n",
    "    for i in range(n+1):\n",
    "        if i <= 2:\n",
    "            dp[i] = i\n",
    "        else:\n",
    "            dp[i] = dp[i-1] + dp[i-2]\n",
    "\n",
    "    return (dp[n])\n",
    "\n",
    "n = 5\n",
    "for i in range(0, n+1):\n",
    "    print(fibo(i+1), end=\",\")\n",
    "\n"
   ]
  }
 ]
}